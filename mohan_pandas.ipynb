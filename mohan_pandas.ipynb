{
  "nbformat": 4,
  "nbformat_minor": 0,
  "metadata": {
    "colab": {
      "provenance": [],
      "authorship_tag": "ABX9TyNOJUU1b62BZGYCTMZ8a2a7",
      "include_colab_link": true
    },
    "kernelspec": {
      "name": "python3",
      "display_name": "Python 3"
    },
    "language_info": {
      "name": "python"
    }
  },
  "cells": [
    {
      "cell_type": "markdown",
      "metadata": {
        "id": "view-in-github",
        "colab_type": "text"
      },
      "source": [
        "<a href=\"https://colab.research.google.com/github/mohankishoregorle/pandas/blob/main/mohan_pandas.ipynb\" target=\"_parent\"><img src=\"https://colab.research.google.com/assets/colab-badge.svg\" alt=\"Open In Colab\"/></a>"
      ]
    },
    {
      "cell_type": "markdown",
      "source": [
        "**Creating Series and DataFrames**"
      ],
      "metadata": {
        "id": "pn1VsyK7gN7l"
      }
    },
    {
      "cell_type": "code",
      "source": [
        "import pandas as pd\n",
        "\n",
        "# Creating a Series\n",
        "data_series = pd.Series([10, 20, 30, 40, 50], index=['a', 'b', 'c', 'd', 'e'])\n",
        "print(\"Series:\\n\", data_series)\n",
        "\n",
        "# Creating a DataFrame from a dictionary\n",
        "data_dict = {\n",
        "    'Name': ['Alice', 'Bob', 'Charlie', 'David'],\n",
        "    'Age': [25, 30, 35, 40],\n",
        "    'Salary': [50000, 60000, 70000, 80000]\n",
        "}\n",
        "df = pd.DataFrame(data_dict)\n",
        "print(\"\\nDataFrame:\\n\", df)"
      ],
      "metadata": {
        "colab": {
          "base_uri": "https://localhost:8080/"
        },
        "id": "MMWu21T5gP06",
        "outputId": "45b2680c-7dbc-42aa-cd87-2252cf576d31"
      },
      "execution_count": null,
      "outputs": [
        {
          "output_type": "stream",
          "name": "stdout",
          "text": [
            "Series:\n",
            " a    10\n",
            "b    20\n",
            "c    30\n",
            "d    40\n",
            "e    50\n",
            "dtype: int64\n",
            "\n",
            "DataFrame:\n",
            "       Name  Age  Salary\n",
            "0    Alice   25   50000\n",
            "1      Bob   30   60000\n",
            "2  Charlie   35   70000\n",
            "3    David   40   80000\n"
          ]
        }
      ]
    },
    {
      "cell_type": "markdown",
      "source": [
        "**2. Data Handling with Pandas**\n",
        "\n",
        "We’ll create a DataFrame from different data structures, handle missing values, and perform various data transformations.\n",
        "\n",
        "Creating DataFrames from Lists and Dictionaries"
      ],
      "metadata": {
        "id": "wontksytgZRE"
      }
    },
    {
      "cell_type": "code",
      "source": [
        "import pandas as pd\n",
        "\n",
        "# Creating DataFrame from a list of dictionaries\n",
        "data_list_of_dicts = [\n",
        "    {'Name': 'Eve', 'Age': 45, 'Salary': 90000},\n",
        "    {'Name': 'Frank', 'Age': 50, 'Salary': 100000},\n",
        "    {'Name': 'Grace', 'Age': 29, 'Salary': 55000}\n",
        "]\n",
        "df_list_of_dicts = pd.DataFrame(data_list_of_dicts)\n",
        "print(\"\\nDataFrame from list of dictionaries:\\n\", df_list_of_dicts)\n",
        "\n",
        "# Creating DataFrame from a dictionary of lists\n",
        "data_dict_of_lists = {\n",
        "    'Name': ['Hannah', 'Isaac', 'Judy'],\n",
        "    'Age': [27, 33, 29],\n",
        "    'Salary': [65000, 70000, 60000]\n",
        "}\n",
        "df_dict_of_lists = pd.DataFrame(data_dict_of_lists)\n",
        "print(\"\\nDataFrame from dictionary of lists:\\n\", df_dict_of_lists)\n"
      ],
      "metadata": {
        "colab": {
          "base_uri": "https://localhost:8080/"
        },
        "id": "NQOJBepkggkf",
        "outputId": "156243d7-e4c5-42dd-cce5-4553ba2becc3"
      },
      "execution_count": null,
      "outputs": [
        {
          "output_type": "stream",
          "name": "stdout",
          "text": [
            "\n",
            "DataFrame from list of dictionaries:\n",
            "     Name  Age  Salary\n",
            "0    Eve   45   90000\n",
            "1  Frank   50  100000\n",
            "2  Grace   29   55000\n",
            "\n",
            "DataFrame from dictionary of lists:\n",
            "      Name  Age  Salary\n",
            "0  Hannah   27   65000\n",
            "1   Isaac   33   70000\n",
            "2    Judy   29   60000\n"
          ]
        }
      ]
    },
    {
      "cell_type": "markdown",
      "source": [
        "**Handling Missing Data**"
      ],
      "metadata": {
        "id": "shYKHjCJgwvY"
      }
    },
    {
      "cell_type": "code",
      "source": [
        "import pandas as pd\n",
        "import numpy as np\n",
        "# Introduce missing data\n",
        "df_missing = pd.DataFrame({\n",
        "    'Name': ['Kelly', 'Leo', 'Mia'],\n",
        "    'Age': [np.nan, 28, 32],\n",
        "    'Salary': [np.nan, 72000, 65000]\n",
        "})\n",
        "print(\"\\nDataFrame with missing data:\\n\", df_missing)\n",
        "\n",
        "# Drop rows with missing values\n",
        "df_cleaned = df_missing.dropna()\n",
        "print(\"\\nDataFrame after dropping rows with missing data:\\n\", df_cleaned)\n",
        "\n",
        "# Fill missing values\n",
        "df_missing['Age'].fillna(df_missing['Age'].mean(), inplace=True)  # Fill NaN in 'Age' with the mean age\n",
        "df_missing['Salary'].fillna(df_missing['Salary'].mean(), inplace=True)  # Fill NaN in 'Salary' with the mean salary\n",
        "print(\"\\nDataFrame after filling missing data:\\n\", df_missing)"
      ],
      "metadata": {
        "colab": {
          "base_uri": "https://localhost:8080/"
        },
        "id": "J0yksjtHgygI",
        "outputId": "23adf377-8ca1-4c82-eb04-de8dfb2900cf"
      },
      "execution_count": null,
      "outputs": [
        {
          "output_type": "stream",
          "name": "stdout",
          "text": [
            "\n",
            "DataFrame with missing data:\n",
            "     Name   Age   Salary\n",
            "0  Kelly   NaN      NaN\n",
            "1    Leo  28.0  72000.0\n",
            "2    Mia  32.0  65000.0\n",
            "\n",
            "DataFrame after dropping rows with missing data:\n",
            "   Name   Age   Salary\n",
            "1  Leo  28.0  72000.0\n",
            "2  Mia  32.0  65000.0\n",
            "\n",
            "DataFrame after filling missing data:\n",
            "     Name   Age   Salary\n",
            "0  Kelly  30.0  68500.0\n",
            "1    Leo  28.0  72000.0\n",
            "2    Mia  32.0  65000.0\n"
          ]
        }
      ]
    },
    {
      "cell_type": "markdown",
      "source": [
        "**Data Type Conversions**"
      ],
      "metadata": {
        "id": "FvHsX1aphyKR"
      }
    },
    {
      "cell_type": "code",
      "source": [
        "import pandas as pd\n",
        "import numpy as np\n",
        "# Introduce missing data\n",
        "df_missing = pd.DataFrame({\n",
        "    'Name': ['Kelly', 'Leo', 'Mia'],\n",
        "    'Age': [25, 28, 32],\n",
        "    'Salary': [np.nan, 72000, 65000]\n",
        "})\n",
        "# Convert 'Age' column to integer type\n",
        "df_missing['Age'] = df_missing['Age'].astype(float)\n",
        "print(\"\\nDataFrame with 'Age' as integer:\\n\", df_missing)"
      ],
      "metadata": {
        "colab": {
          "base_uri": "https://localhost:8080/"
        },
        "id": "Enh6Bh8Ih2aJ",
        "outputId": "bfddff93-0f08-4f86-f6c6-62333349d82f"
      },
      "execution_count": null,
      "outputs": [
        {
          "output_type": "stream",
          "name": "stdout",
          "text": [
            "\n",
            "DataFrame with 'Age' as integer:\n",
            "     Name   Age   Salary\n",
            "0  Kelly  25.0      NaN\n",
            "1    Leo  28.0  72000.0\n",
            "2    Mia  32.0  65000.0\n"
          ]
        }
      ]
    },
    {
      "cell_type": "markdown",
      "source": [
        "**3. Data Analysis with Pandas**\n",
        "\n",
        "We will perform summary statistics, grouping, and merging operations.\n",
        "\n",
        "**Summary Statistics**"
      ],
      "metadata": {
        "id": "q7wPnwP3iMKl"
      }
    },
    {
      "cell_type": "code",
      "source": [
        "import pandas as pd\n",
        "\n",
        "# Creating a DataFrame\n",
        "data = {\n",
        "    'Age': [25, 30, 35, 40, 45],\n",
        "    'Salary': [50000, 60000, 70000, 80000, 90000]\n",
        "}\n",
        "df = pd.DataFrame(data)\n",
        "\n",
        "# Summary statistics\n",
        "print(\"\\nSummary Statistics:\\n\", df.describe())"
      ],
      "metadata": {
        "colab": {
          "base_uri": "https://localhost:8080/"
        },
        "id": "qGH456hdiUdN",
        "outputId": "03ada66c-904b-4a97-9fa2-f3a059076be5"
      },
      "execution_count": null,
      "outputs": [
        {
          "output_type": "stream",
          "name": "stdout",
          "text": [
            "\n",
            "Summary Statistics:\n",
            "              Age        Salary\n",
            "count   5.000000      5.000000\n",
            "mean   35.000000  70000.000000\n",
            "std     7.905694  15811.388301\n",
            "min    25.000000  50000.000000\n",
            "25%    30.000000  60000.000000\n",
            "50%    35.000000  70000.000000\n",
            "75%    40.000000  80000.000000\n",
            "max    45.000000  90000.000000\n"
          ]
        }
      ]
    },
    {
      "cell_type": "markdown",
      "source": [
        "**Grouping and Aggregation**"
      ],
      "metadata": {
        "id": "MltHtdohifuq"
      }
    },
    {
      "cell_type": "code",
      "source": [
        "import pandas as pd\n",
        "\n",
        "# Creating a DataFrame\n",
        "data = {\n",
        "    'Department': ['HR', 'IT', 'IT', 'HR', 'Finance'],\n",
        "    'Salary': [50000, 60000, 65000, 55000, 70000]\n",
        "}\n",
        "df = pd.DataFrame(data)\n",
        "\n",
        "# Group by 'Department' and calculate the mean salary\n",
        "grouped = df.groupby('Department').mean()\n",
        "print(\"\\nGrouped Data and Aggregates:\\n\", grouped)"
      ],
      "metadata": {
        "colab": {
          "base_uri": "https://localhost:8080/"
        },
        "id": "4spIl3_TilnI",
        "outputId": "fe293c06-b978-49ce-a64c-27bd72b27724"
      },
      "execution_count": null,
      "outputs": [
        {
          "output_type": "stream",
          "name": "stdout",
          "text": [
            "\n",
            "Grouped Data and Aggregates:\n",
            "              Salary\n",
            "Department         \n",
            "Finance     70000.0\n",
            "HR          52500.0\n",
            "IT          62500.0\n"
          ]
        }
      ]
    },
    {
      "cell_type": "code",
      "source": [
        "import pandas as pd\n",
        "\n",
        "# Creating DataFrames\n",
        "df1 = pd.DataFrame({\n",
        "    'ID': [1, 2, 3],\n",
        "    'Name': ['Aneel', 'Bharath', 'Charan']\n",
        "})\n",
        "\n",
        "df2 = pd.DataFrame({\n",
        "    'ID': [4, 5],\n",
        "    'Name': ['mohan', 'lohith']\n",
        "})\n",
        "# Concatenating DataFrames\n",
        "concatenated_df = pd.concat([df1, df2], ignore_index=True)\n",
        "print(\"\\nConcatenated DataFrame:\\n\", concatenated_df)"
      ],
      "metadata": {
        "colab": {
          "base_uri": "https://localhost:8080/"
        },
        "id": "kksdpCUojJam",
        "outputId": "cf4c6cfc-e6c4-4db9-d358-41c928ff898b"
      },
      "execution_count": null,
      "outputs": [
        {
          "output_type": "stream",
          "name": "stdout",
          "text": [
            "\n",
            "Concatenated DataFrame:\n",
            "    ID     Name\n",
            "0   1    Aneel\n",
            "1   2  Bharath\n",
            "2   3   Charan\n",
            "3   4    mohan\n",
            "4   5   lohith\n"
          ]
        }
      ]
    },
    {
      "cell_type": "markdown",
      "source": [],
      "metadata": {
        "id": "JiS2mA49jUGc"
      }
    }
  ]
}